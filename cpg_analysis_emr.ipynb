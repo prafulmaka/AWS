{
 "cells": [
  {
   "cell_type": "code",
   "execution_count": 1,
   "id": "1e867e4c",
   "metadata": {},
   "outputs": [
    {
     "data": {
      "application/vnd.jupyter.widget-view+json": {
       "model_id": "9e1d3757b827440ca94320225ece7298",
       "version_major": 2,
       "version_minor": 0
      },
      "text/plain": [
       "VBox()"
      ]
     },
     "metadata": {},
     "output_type": "display_data"
    },
    {
     "name": "stdout",
     "output_type": "stream",
     "text": [
      "Starting Spark application\n"
     ]
    },
    {
     "data": {
      "text/html": [
       "<table>\n",
       "<tr><th>ID</th><th>YARN Application ID</th><th>Kind</th><th>State</th><th>Spark UI</th><th>Driver log</th><th>Current session?</th></tr><tr><td>1</td><td>application_1638137095618_0005</td><td>pyspark</td><td>idle</td><td><a target=\"_blank\" href=\"http://ip-172-31-29-148.us-west-1.compute.internal:20888/proxy/application_1638137095618_0005/\" class=\"emr-proxy-link\" emr-resource=\"j-2G0N6M3IWWHT4\n",
       "\" application-id=\"application_1638137095618_0005\">Link</a></td><td><a target=\"_blank\" href=\"http://ip-172-31-22-247.us-west-1.compute.internal:8042/node/containerlogs/container_1638137095618_0005_01_000001/livy\" >Link</a></td><td>✔</td></tr></table>"
      ],
      "text/plain": [
       "<IPython.core.display.HTML object>"
      ]
     },
     "metadata": {},
     "output_type": "display_data"
    },
    {
     "data": {
      "application/vnd.jupyter.widget-view+json": {
       "model_id": "",
       "version_major": 2,
       "version_minor": 0
      },
      "text/plain": [
       "FloatProgress(value=0.0, bar_style='info', description='Progress:', layout=Layout(height='25px', width='50%'),…"
      ]
     },
     "metadata": {},
     "output_type": "display_data"
    },
    {
     "name": "stdout",
     "output_type": "stream",
     "text": [
      "SparkSession available as 'spark'.\n"
     ]
    },
    {
     "data": {
      "application/vnd.jupyter.widget-view+json": {
       "model_id": "",
       "version_major": 2,
       "version_minor": 0
      },
      "text/plain": [
       "FloatProgress(value=0.0, bar_style='info', description='Progress:', layout=Layout(height='25px', width='50%'),…"
      ]
     },
     "metadata": {},
     "output_type": "display_data"
    }
   ],
   "source": [
    "import pyspark\n",
    "from pyspark.sql.functions import *"
   ]
  },
  {
   "cell_type": "code",
   "execution_count": 2,
   "id": "98d7d106",
   "metadata": {},
   "outputs": [
    {
     "data": {
      "application/vnd.jupyter.widget-view+json": {
       "model_id": "201117db112149b29a5e5c9adace2cc5",
       "version_major": 2,
       "version_minor": 0
      },
      "text/plain": [
       "VBox()"
      ]
     },
     "metadata": {},
     "output_type": "display_data"
    },
    {
     "data": {
      "application/vnd.jupyter.widget-view+json": {
       "model_id": "",
       "version_major": 2,
       "version_minor": 0
      },
      "text/plain": [
       "FloatProgress(value=0.0, bar_style='info', description='Progress:', layout=Layout(height='25px', width='50%'),…"
      ]
     },
     "metadata": {},
     "output_type": "display_data"
    }
   ],
   "source": [
    "# Read \n",
    "data = spark.read.option(\"delimiter\", \",\").csv(\"s3://data-apr/CPG0.csv\", header=True)"
   ]
  },
  {
   "cell_type": "code",
   "execution_count": 3,
   "id": "0dae5cab",
   "metadata": {},
   "outputs": [
    {
     "data": {
      "application/vnd.jupyter.widget-view+json": {
       "model_id": "8280f47376af44f0a57f0410071d806b",
       "version_major": 2,
       "version_minor": 0
      },
      "text/plain": [
       "VBox()"
      ]
     },
     "metadata": {},
     "output_type": "display_data"
    },
    {
     "data": {
      "application/vnd.jupyter.widget-view+json": {
       "model_id": "",
       "version_major": 2,
       "version_minor": 0
      },
      "text/plain": [
       "FloatProgress(value=0.0, bar_style='info', description='Progress:', layout=Layout(height='25px', width='50%'),…"
      ]
     },
     "metadata": {},
     "output_type": "display_data"
    },
    {
     "name": "stdout",
     "output_type": "stream",
     "text": [
      "89770641"
     ]
    }
   ],
   "source": [
    "# Data - Count of rows\n",
    "data.count()"
   ]
  },
  {
   "cell_type": "code",
   "execution_count": 4,
   "id": "b879382d",
   "metadata": {},
   "outputs": [
    {
     "data": {
      "application/vnd.jupyter.widget-view+json": {
       "model_id": "d1f0fad4821940dcbac582f23909a875",
       "version_major": 2,
       "version_minor": 0
      },
      "text/plain": [
       "VBox()"
      ]
     },
     "metadata": {},
     "output_type": "display_data"
    },
    {
     "data": {
      "application/vnd.jupyter.widget-view+json": {
       "model_id": "",
       "version_major": 2,
       "version_minor": 0
      },
      "text/plain": [
       "FloatProgress(value=0.0, bar_style='info', description='Progress:', layout=Layout(height='25px', width='50%'),…"
      ]
     },
     "metadata": {},
     "output_type": "display_data"
    },
    {
     "name": "stdout",
     "output_type": "stream",
     "text": [
      "root\n",
      " |-- customer_id: string (nullable = true)\n",
      " |-- retailer_channel: string (nullable = true)\n",
      " |-- purchase_time: string (nullable = true)\n",
      " |-- upc: string (nullable = true)\n",
      " |-- product_name: string (nullable = true)\n",
      " |-- brand_name: string (nullable = true)\n",
      " |-- quantity: string (nullable = true)\n",
      " |-- price: string (nullable = true)\n",
      " |-- basket_total: string (nullable = true)\n",
      " |-- primary_category: string (nullable = true)\n",
      " |-- secondary_category: string (nullable = true)\n",
      " |-- purchased_zip: string (nullable = true)\n",
      " |-- registered_zip: string (nullable = true)\n",
      " |-- age: string (nullable = true)\n",
      " |-- gender: string (nullable = true)\n",
      " |-- receipt_item_id: string (nullable = true)\n",
      " |-- receipt_id: string (nullable = true)\n",
      " |-- identifier: string (nullable = true)\n",
      " |-- final_company: string (nullable = true)\n",
      " |-- brand: string (nullable = true)"
     ]
    }
   ],
   "source": [
    "# Print Schema\n",
    "data.printSchema()"
   ]
  },
  {
   "cell_type": "code",
   "execution_count": 5,
   "id": "c8e14028",
   "metadata": {},
   "outputs": [
    {
     "data": {
      "application/vnd.jupyter.widget-view+json": {
       "model_id": "003a990c5fa94b8ab2e7829d58aeb0c4",
       "version_major": 2,
       "version_minor": 0
      },
      "text/plain": [
       "VBox()"
      ]
     },
     "metadata": {},
     "output_type": "display_data"
    },
    {
     "data": {
      "application/vnd.jupyter.widget-view+json": {
       "model_id": "",
       "version_major": 2,
       "version_minor": 0
      },
      "text/plain": [
       "FloatProgress(value=0.0, bar_style='info', description='Progress:', layout=Layout(height='25px', width='50%'),…"
      ]
     },
     "metadata": {},
     "output_type": "display_data"
    },
    {
     "name": "stdout",
     "output_type": "stream",
     "text": [
      "+-----------+----------------+-------------------+--------------+--------------------+----------------+--------+-----+------------+--------------------+------------------+-------------+--------------+---+------+---------------+-----------+----------+--------------------+----------------+\n",
      "|customer_id|retailer_channel|      purchase_time|           upc|        product_name|      brand_name|quantity|price|basket_total|    primary_category|secondary_category|purchased_zip|registered_zip|age|gender|receipt_item_id| receipt_id|identifier|       final_company|           brand|\n",
      "+-----------+----------------+-------------------+--------------+--------------------+----------------+--------+-----+------------+--------------------+------------------+-------------+--------------+---+------+---------------+-----------+----------+--------------------+----------------+\n",
      "|   10351180|         Grocery|2018-08-01 18:35:39|00000000040112|             BANANAS| Generic Produce|     2.0|0.605|       19.81|             Produce|            Fruits|      37814.0|         37725| 29|     f|     5175837393|322362150.0|      null|                null|            null|\n",
      "|   12776095|         Big Box|2018-08-02 23:58:00|00070470003191|YOP ORIG LF YGRT ...|Yoplait Original|     1.0|  0.6|      193.53|               Dairy|            Yogurt|      33935.0|         33935| 33|     m|     5175838105|322362188.0|  NYSE:GIS|General Mills , INC.|Yoplait Original|\n",
      "|    5652397|         Big Box|2018-08-02 00:11:00|00050000577965|Purina Friskies G...|        Friskies|     1.0| 2.86|        null|                Pets|               Cat|      30281.0|         30253| 49|     f|     5175839236|322362244.0|  SWX:NESN|         Nestle S.A.|        Friskies|\n",
      "|   14643855|         Big Box|2018-08-02 00:11:00| Private Label|       Private Label|   Private Label|     1.0| 3.21|      167.16|        Frozen Foods|   Frozen Potatoes|      88005.0|         88001| 25|     f|     5175839556|322362267.0|      null|                null|            null|\n",
      "|   22734384|         Big Box|2018-08-02 23:50:00|00078787757325|Pendaflex Letter ...|       Pendaflex|     1.0| 1.77|       93.26|Household Essentials|   Office Supplies|      30152.0|         30152| 41|     f|     5175839653|322362280.0|      null|                null|            null|\n",
      "+-----------+----------------+-------------------+--------------+--------------------+----------------+--------+-----+------------+--------------------+------------------+-------------+--------------+---+------+---------------+-----------+----------+--------------------+----------------+"
     ]
    }
   ],
   "source": [
    "# Show Data`\n",
    "data.limit(5).show()"
   ]
  },
  {
   "cell_type": "code",
   "execution_count": 6,
   "id": "5b2ed2b1",
   "metadata": {},
   "outputs": [
    {
     "data": {
      "application/vnd.jupyter.widget-view+json": {
       "model_id": "ab10f7d42f3a42dd97d087c206e184b4",
       "version_major": 2,
       "version_minor": 0
      },
      "text/plain": [
       "VBox()"
      ]
     },
     "metadata": {},
     "output_type": "display_data"
    },
    {
     "data": {
      "application/vnd.jupyter.widget-view+json": {
       "model_id": "",
       "version_major": 2,
       "version_minor": 0
      },
      "text/plain": [
       "FloatProgress(value=0.0, bar_style='info', description='Progress:', layout=Layout(height='25px', width='50%'),…"
      ]
     },
     "metadata": {},
     "output_type": "display_data"
    }
   ],
   "source": [
    "# Function - Split on Date\n",
    "split_col = pyspark.sql.functions.split(data[\"purchase_time\"], ' ')"
   ]
  },
  {
   "cell_type": "code",
   "execution_count": 7,
   "id": "f1fd2e8d",
   "metadata": {},
   "outputs": [
    {
     "data": {
      "application/vnd.jupyter.widget-view+json": {
       "model_id": "e2f0d56e7d7e4ab594e3a7d752ee8abd",
       "version_major": 2,
       "version_minor": 0
      },
      "text/plain": [
       "VBox()"
      ]
     },
     "metadata": {},
     "output_type": "display_data"
    },
    {
     "data": {
      "application/vnd.jupyter.widget-view+json": {
       "model_id": "",
       "version_major": 2,
       "version_minor": 0
      },
      "text/plain": [
       "FloatProgress(value=0.0, bar_style='info', description='Progress:', layout=Layout(height='25px', width='50%'),…"
      ]
     },
     "metadata": {},
     "output_type": "display_data"
    }
   ],
   "source": [
    "# Create additional columns\n",
    "data = data.withColumn('date', split_col.getItem(0))\n",
    "data = data.withColumn('time', split_col.getItem(1))\n",
    "data = data.withColumn('day_of_week', dayofweek('date'))\n",
    "data = data.withColumn('hour_of_day', hour('time'))\n",
    "data = data.withColumn('day_of_week_string', pyspark.sql.functions.when(col('day_of_week') == 1, \"Sunday\")\n",
    "                                                                  .when(col('day_of_week') == 2, \"Monday\")\n",
    "                                                                  .when(col('day_of_week') == 3, \"Tuesday\")\n",
    "                                                                  .when(col('day_of_week') == 4, \"Wednesday\")\n",
    "                                                                  .when(col('day_of_week') == 5, \"Thursday\")\n",
    "                                                                  .when(col('day_of_week') == 6, \"Friday\")\n",
    "                                                                  .when(col('day_of_week') == 7, \"Saturday\")\n",
    "                                                                  .otherwise(\"N/A\"))"
   ]
  },
  {
   "cell_type": "code",
   "execution_count": 8,
   "id": "8d28cfa0",
   "metadata": {},
   "outputs": [
    {
     "data": {
      "application/vnd.jupyter.widget-view+json": {
       "model_id": "8fb3073311ce41acbd06ae11f4b1e516",
       "version_major": 2,
       "version_minor": 0
      },
      "text/plain": [
       "VBox()"
      ]
     },
     "metadata": {},
     "output_type": "display_data"
    },
    {
     "data": {
      "application/vnd.jupyter.widget-view+json": {
       "model_id": "",
       "version_major": 2,
       "version_minor": 0
      },
      "text/plain": [
       "FloatProgress(value=0.0, bar_style='info', description='Progress:', layout=Layout(height='25px', width='50%'),…"
      ]
     },
     "metadata": {},
     "output_type": "display_data"
    }
   ],
   "source": [
    "# Replace values in Gender column\n",
    "data = data.na.fill(\"not specified\", [\"gender\"])\n",
    "data = data.replace('o', 'not specified', ['gender'])\n"
   ]
  },
  {
   "cell_type": "code",
   "execution_count": 9,
   "id": "4ccd33ae",
   "metadata": {},
   "outputs": [
    {
     "data": {
      "application/vnd.jupyter.widget-view+json": {
       "model_id": "842ad4a1ede0461d804161145de84566",
       "version_major": 2,
       "version_minor": 0
      },
      "text/plain": [
       "VBox()"
      ]
     },
     "metadata": {},
     "output_type": "display_data"
    },
    {
     "data": {
      "application/vnd.jupyter.widget-view+json": {
       "model_id": "",
       "version_major": 2,
       "version_minor": 0
      },
      "text/plain": [
       "FloatProgress(value=0.0, bar_style='info', description='Progress:', layout=Layout(height='25px', width='50%'),…"
      ]
     },
     "metadata": {},
     "output_type": "display_data"
    },
    {
     "name": "stdout",
     "output_type": "stream",
     "text": [
      "+-----------+----------------+-------------+-------+------------+----------+--------+------+------------+----------------+------------------+-------------+--------------+---+------+---------------+----------+----------+-------------+--------+----+----+-----------+-----------+------------------+\n",
      "|customer_id|retailer_channel|purchase_time|    upc|product_name|brand_name|quantity| price|basket_total|primary_category|secondary_category|purchased_zip|registered_zip|age|gender|receipt_item_id|receipt_id|identifier|final_company|   brand|date|time|day_of_week|hour_of_day|day_of_week_string|\n",
      "+-----------+----------------+-------------+-------+------------+----------+--------+------+------------+----------------+------------------+-------------+--------------+---+------+---------------+----------+----------+-------------+--------+----+----+-----------+-----------+------------------+\n",
      "|          0|               0|            0|2427364|     2452218|   1085537|  163978|311369|      893505|         3786396|           3786396|     32675047|           151|152|     0|            151|       151|  52680663|     48301686|48301686|   0|   0|          0|          0|                 0|\n",
      "+-----------+----------------+-------------+-------+------------+----------+--------+------+------------+----------------+------------------+-------------+--------------+---+------+---------------+----------+----------+-------------+--------+----+----+-----------+-----------+------------------+"
     ]
    }
   ],
   "source": [
    "# Column Null Values\n",
    "data.select([count(when(isnull(c), c)).alias(c) for c in data.columns]).show()"
   ]
  },
  {
   "cell_type": "code",
   "execution_count": 10,
   "id": "d1b831ac",
   "metadata": {},
   "outputs": [
    {
     "data": {
      "application/vnd.jupyter.widget-view+json": {
       "model_id": "2ada12cd6d29405fbdfb7fa912cba21b",
       "version_major": 2,
       "version_minor": 0
      },
      "text/plain": [
       "VBox()"
      ]
     },
     "metadata": {},
     "output_type": "display_data"
    },
    {
     "data": {
      "application/vnd.jupyter.widget-view+json": {
       "model_id": "",
       "version_major": 2,
       "version_minor": 0
      },
      "text/plain": [
       "FloatProgress(value=0.0, bar_style='info', description='Progress:', layout=Layout(height='25px', width='50%'),…"
      ]
     },
     "metadata": {},
     "output_type": "display_data"
    }
   ],
   "source": [
    "# Table 1a - Busy Times\n",
    "table1 = data.groupBy(\"hour_of_day\").count().orderBy(col(\"count\").desc())"
   ]
  },
  {
   "cell_type": "code",
   "execution_count": 11,
   "id": "77da5b21",
   "metadata": {},
   "outputs": [
    {
     "data": {
      "application/vnd.jupyter.widget-view+json": {
       "model_id": "41c2d2ee11ed4801b83eaf58bced3872",
       "version_major": 2,
       "version_minor": 0
      },
      "text/plain": [
       "VBox()"
      ]
     },
     "metadata": {},
     "output_type": "display_data"
    },
    {
     "data": {
      "application/vnd.jupyter.widget-view+json": {
       "model_id": "",
       "version_major": 2,
       "version_minor": 0
      },
      "text/plain": [
       "FloatProgress(value=0.0, bar_style='info', description='Progress:', layout=Layout(height='25px', width='50%'),…"
      ]
     },
     "metadata": {},
     "output_type": "display_data"
    },
    {
     "name": "stdout",
     "output_type": "stream",
     "text": [
      "DataFrame[]"
     ]
    }
   ],
   "source": [
    "# Final Table - Table 1a\n",
    "table1.createOrReplaceTempView(\"Table1\")\n",
    "\n",
    "spark.sql(\"CREATE TABLE table1 AS SELECT * FROM TABLE1\")"
   ]
  },
  {
   "cell_type": "code",
   "execution_count": 12,
   "id": "76b7221b",
   "metadata": {},
   "outputs": [
    {
     "data": {
      "application/vnd.jupyter.widget-view+json": {
       "model_id": "882b1c0885254c3781b196960fe9b15c",
       "version_major": 2,
       "version_minor": 0
      },
      "text/plain": [
       "VBox()"
      ]
     },
     "metadata": {},
     "output_type": "display_data"
    },
    {
     "data": {
      "application/vnd.jupyter.widget-view+json": {
       "model_id": "",
       "version_major": 2,
       "version_minor": 0
      },
      "text/plain": [
       "FloatProgress(value=0.0, bar_style='info', description='Progress:', layout=Layout(height='25px', width='50%'),…"
      ]
     },
     "metadata": {},
     "output_type": "display_data"
    }
   ],
   "source": [
    "# Table 2a - Popular Company (Listed)\n",
    "table2 = data.groupBy(\"final_company\").count().orderBy(col(\"count\").desc())"
   ]
  },
  {
   "cell_type": "code",
   "execution_count": 13,
   "id": "936c3859",
   "metadata": {},
   "outputs": [
    {
     "data": {
      "application/vnd.jupyter.widget-view+json": {
       "model_id": "c87221d350c5462eb3104de58aeb6084",
       "version_major": 2,
       "version_minor": 0
      },
      "text/plain": [
       "VBox()"
      ]
     },
     "metadata": {},
     "output_type": "display_data"
    },
    {
     "data": {
      "application/vnd.jupyter.widget-view+json": {
       "model_id": "",
       "version_major": 2,
       "version_minor": 0
      },
      "text/plain": [
       "FloatProgress(value=0.0, bar_style='info', description='Progress:', layout=Layout(height='25px', width='50%'),…"
      ]
     },
     "metadata": {},
     "output_type": "display_data"
    },
    {
     "name": "stdout",
     "output_type": "stream",
     "text": [
      "DataFrame[]"
     ]
    }
   ],
   "source": [
    "# Final Table - Table 2a\n",
    "table2.createOrReplaceTempView(\"Table2\")\n",
    "\n",
    "spark.sql(\"CREATE TABLE table2 AS SELECT * FROM Table2\")"
   ]
  },
  {
   "cell_type": "code",
   "execution_count": 14,
   "id": "554263e5",
   "metadata": {},
   "outputs": [
    {
     "data": {
      "application/vnd.jupyter.widget-view+json": {
       "model_id": "7903f7b12bce473a950e3e9633acab6a",
       "version_major": 2,
       "version_minor": 0
      },
      "text/plain": [
       "VBox()"
      ]
     },
     "metadata": {},
     "output_type": "display_data"
    },
    {
     "data": {
      "application/vnd.jupyter.widget-view+json": {
       "model_id": "",
       "version_major": 2,
       "version_minor": 0
      },
      "text/plain": [
       "FloatProgress(value=0.0, bar_style='info', description='Progress:', layout=Layout(height='25px', width='50%'),…"
      ]
     },
     "metadata": {},
     "output_type": "display_data"
    }
   ],
   "source": [
    "# Table 3a - Popular Brand Name\n",
    "table3 = data.groupBy(\"brand_name\").count().orderBy(col(\"count\").desc())"
   ]
  },
  {
   "cell_type": "code",
   "execution_count": 15,
   "id": "9d335e16",
   "metadata": {},
   "outputs": [
    {
     "data": {
      "application/vnd.jupyter.widget-view+json": {
       "model_id": "4720d3fe76694e1498013ccdcb4b25ee",
       "version_major": 2,
       "version_minor": 0
      },
      "text/plain": [
       "VBox()"
      ]
     },
     "metadata": {},
     "output_type": "display_data"
    },
    {
     "data": {
      "application/vnd.jupyter.widget-view+json": {
       "model_id": "",
       "version_major": 2,
       "version_minor": 0
      },
      "text/plain": [
       "FloatProgress(value=0.0, bar_style='info', description='Progress:', layout=Layout(height='25px', width='50%'),…"
      ]
     },
     "metadata": {},
     "output_type": "display_data"
    },
    {
     "name": "stdout",
     "output_type": "stream",
     "text": [
      "DataFrame[]"
     ]
    }
   ],
   "source": [
    "# Final Table - Table 3a\n",
    "table3.createOrReplaceTempView(\"Table3\")\n",
    "\n",
    "spark.sql(\"CREATE TABLE table3 AS SELECT * FROM Table3\")"
   ]
  },
  {
   "cell_type": "code",
   "execution_count": 16,
   "id": "95bff3be",
   "metadata": {},
   "outputs": [
    {
     "data": {
      "application/vnd.jupyter.widget-view+json": {
       "model_id": "ac8bb11060034b56950b7dca3f093700",
       "version_major": 2,
       "version_minor": 0
      },
      "text/plain": [
       "VBox()"
      ]
     },
     "metadata": {},
     "output_type": "display_data"
    },
    {
     "data": {
      "application/vnd.jupyter.widget-view+json": {
       "model_id": "",
       "version_major": 2,
       "version_minor": 0
      },
      "text/plain": [
       "FloatProgress(value=0.0, bar_style='info', description='Progress:', layout=Layout(height='25px', width='50%'),…"
      ]
     },
     "metadata": {},
     "output_type": "display_data"
    }
   ],
   "source": [
    "# Table 4a - Popular Retail Channel\n",
    "table4 = data.groupBy(\"retailer_channel\").count().orderBy(col(\"count\").desc())"
   ]
  },
  {
   "cell_type": "code",
   "execution_count": 17,
   "id": "0a72ad47",
   "metadata": {},
   "outputs": [
    {
     "data": {
      "application/vnd.jupyter.widget-view+json": {
       "model_id": "0661f5961afc41b39426748ee17c3865",
       "version_major": 2,
       "version_minor": 0
      },
      "text/plain": [
       "VBox()"
      ]
     },
     "metadata": {},
     "output_type": "display_data"
    },
    {
     "data": {
      "application/vnd.jupyter.widget-view+json": {
       "model_id": "",
       "version_major": 2,
       "version_minor": 0
      },
      "text/plain": [
       "FloatProgress(value=0.0, bar_style='info', description='Progress:', layout=Layout(height='25px', width='50%'),…"
      ]
     },
     "metadata": {},
     "output_type": "display_data"
    },
    {
     "name": "stdout",
     "output_type": "stream",
     "text": [
      "DataFrame[]"
     ]
    }
   ],
   "source": [
    "# Final Table - Table 4a\n",
    "table4.createOrReplaceTempView(\"Table4\")\n",
    "\n",
    "spark.sql(\"CREATE TABLE table4 AS SELECT * FROM Table4\")"
   ]
  },
  {
   "cell_type": "code",
   "execution_count": 18,
   "id": "5c9bcd4c",
   "metadata": {},
   "outputs": [
    {
     "data": {
      "application/vnd.jupyter.widget-view+json": {
       "model_id": "8c1340eb353544a598e0f7a05208d4d8",
       "version_major": 2,
       "version_minor": 0
      },
      "text/plain": [
       "VBox()"
      ]
     },
     "metadata": {},
     "output_type": "display_data"
    },
    {
     "data": {
      "application/vnd.jupyter.widget-view+json": {
       "model_id": "",
       "version_major": 2,
       "version_minor": 0
      },
      "text/plain": [
       "FloatProgress(value=0.0, bar_style='info', description='Progress:', layout=Layout(height='25px', width='50%'),…"
      ]
     },
     "metadata": {},
     "output_type": "display_data"
    }
   ],
   "source": [
    "# Table 5a - Primary Category\n",
    "table5 = data.groupBy(\"primary_category\").count().orderBy(col(\"count\").desc())"
   ]
  },
  {
   "cell_type": "code",
   "execution_count": 19,
   "id": "65f6a68f",
   "metadata": {},
   "outputs": [
    {
     "data": {
      "application/vnd.jupyter.widget-view+json": {
       "model_id": "270f0d00010341d391b3cf87c86567ce",
       "version_major": 2,
       "version_minor": 0
      },
      "text/plain": [
       "VBox()"
      ]
     },
     "metadata": {},
     "output_type": "display_data"
    },
    {
     "data": {
      "application/vnd.jupyter.widget-view+json": {
       "model_id": "",
       "version_major": 2,
       "version_minor": 0
      },
      "text/plain": [
       "FloatProgress(value=0.0, bar_style='info', description='Progress:', layout=Layout(height='25px', width='50%'),…"
      ]
     },
     "metadata": {},
     "output_type": "display_data"
    },
    {
     "name": "stdout",
     "output_type": "stream",
     "text": [
      "DataFrame[]"
     ]
    }
   ],
   "source": [
    "# Final Table - Table 5a\n",
    "table5.createOrReplaceTempView(\"Table5\")\n",
    "\n",
    "spark.sql(\"CREATE TABLE table5 AS SELECT * FROM Table5\")"
   ]
  },
  {
   "cell_type": "code",
   "execution_count": 20,
   "id": "33c5e824",
   "metadata": {},
   "outputs": [
    {
     "data": {
      "application/vnd.jupyter.widget-view+json": {
       "model_id": "6699d8e94cd043efbd62ae2fe1ba524e",
       "version_major": 2,
       "version_minor": 0
      },
      "text/plain": [
       "VBox()"
      ]
     },
     "metadata": {},
     "output_type": "display_data"
    },
    {
     "data": {
      "application/vnd.jupyter.widget-view+json": {
       "model_id": "",
       "version_major": 2,
       "version_minor": 0
      },
      "text/plain": [
       "FloatProgress(value=0.0, bar_style='info', description='Progress:', layout=Layout(height='25px', width='50%'),…"
      ]
     },
     "metadata": {},
     "output_type": "display_data"
    }
   ],
   "source": [
    "# Table 6a - Gender\n",
    "table6 = data.groupBy(\"gender\").count().orderBy(col(\"count\").desc())"
   ]
  },
  {
   "cell_type": "code",
   "execution_count": 21,
   "id": "b9aec176",
   "metadata": {},
   "outputs": [
    {
     "data": {
      "application/vnd.jupyter.widget-view+json": {
       "model_id": "d02b91fc8ce04c61a13513d1bc707ff7",
       "version_major": 2,
       "version_minor": 0
      },
      "text/plain": [
       "VBox()"
      ]
     },
     "metadata": {},
     "output_type": "display_data"
    },
    {
     "data": {
      "application/vnd.jupyter.widget-view+json": {
       "model_id": "",
       "version_major": 2,
       "version_minor": 0
      },
      "text/plain": [
       "FloatProgress(value=0.0, bar_style='info', description='Progress:', layout=Layout(height='25px', width='50%'),…"
      ]
     },
     "metadata": {},
     "output_type": "display_data"
    },
    {
     "name": "stdout",
     "output_type": "stream",
     "text": [
      "DataFrame[]"
     ]
    }
   ],
   "source": [
    "# Final Table - Table 6a\n",
    "table6.createOrReplaceTempView(\"Table6\")\n",
    "\n",
    "spark.sql(\"CREATE TABLE table6 AS SELECT * FROM Table6\")"
   ]
  },
  {
   "cell_type": "code",
   "execution_count": null,
   "id": "911ae355",
   "metadata": {},
   "outputs": [],
   "source": []
  }
 ],
 "metadata": {
  "kernelspec": {
   "display_name": "PySpark",
   "language": "",
   "name": "pysparkkernel"
  },
  "language_info": {
   "codemirror_mode": {
    "name": "python",
    "version": 3
   },
   "mimetype": "text/x-python",
   "name": "pyspark",
   "pygments_lexer": "python3"
  }
 },
 "nbformat": 4,
 "nbformat_minor": 5
}
